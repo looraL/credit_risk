{
 "cells": [
  {
   "cell_type": "code",
   "execution_count": null,
   "metadata": {
    "collapsed": false
   },
   "outputs": [],
   "source": [
    "using Pkg; Pkg.activate(\"..\")\n",
    "using CreditRisk"
   ]
  },
  {
   "cell_type": "markdown",
   "metadata": {},
   "source": [
    "### Runtime allocation and time for the algorithms\n",
    "\n",
    "- simple_mc\n",
    "- bernoulli_mc\n",
    "- glassermanli_mc\n",
    "- onelevel_mc"
   ]
  },
  {
   "cell_type": "code",
   "execution_count": null,
   "metadata": {
    "collapsed": false
   },
   "outputs": [],
   "source": [
    "n = 2500\n",
    "c = 4\n",
    "s = 5\n",
    "l = 0.2\n",
    "nz = 1000\n",
    "ne = 1000\n",
    "param = Parameter(n,c,s,l)\n",
    "\n",
    "algos = [\n",
    "    bernoulli_mc,\n",
    "    glassermanli_mc,\n",
    "]"
   ]
  },
  {
   "cell_type": "code",
   "execution_count": null,
   "metadata": {
    "collapsed": false
   },
   "outputs": [],
   "source": [
    "for algo in algos\n",
    "    @time p = algo(param, (nz, ne))\n",
    "    display(p)\n",
    "end\n",
    "\n",
    "@time p = onelvl_mc(param, nz)\n",
    "display(p)"
   ]
  },
  {
   "cell_type": "code",
   "execution_count": null,
   "metadata": {
    "collapsed": true
   },
   "outputs": [],
   "source": []
  }
 ],
 "metadata": {
  "kernelspec": {
   "display_name": "Julia 0.7.0",
   "language": "julia",
   "name": "julia-0.7"
  },
  "language_info": {
   "file_extension": ".jl",
   "mimetype": "application/julia",
   "name": "julia",
   "version": "0.7.0"
  }
 },
 "nbformat": 4,
 "nbformat_minor": 0
}
