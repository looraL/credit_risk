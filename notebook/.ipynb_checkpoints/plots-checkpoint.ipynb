{
 "cells": [
  {
   "cell_type": "code",
   "execution_count": null,
   "metadata": {},
   "outputs": [],
   "source": [
    "from math import log\n",
    "\n",
    "import matplotlib\n",
    "import matplotlib.pyplot as plt\n",
    "import numpy as np\n",
    "import pandas as pd\n",
    "import seaborn as sns\n",
    "import scipy\n",
    "\n",
    "sns.set()"
   ]
  },
  {
   "cell_type": "code",
   "execution_count": null,
   "metadata": {},
   "outputs": [],
   "source": [
    "path = \"../b_vs_gl.txt\"\n",
    "df = pd.read_csv(path)\n",
    "gldf = df.drop(columns=['bernoulli'])\n",
    "for k in ['l', 'glassermanli']:\n",
    "    print(scipy.stats.describe(gldf[k]))\n",
    "print(len(gldf))\n",
    "gldf.head()"
   ]
  },
  {
   "cell_type": "code",
   "execution_count": null,
   "metadata": {},
   "outputs": [],
   "source": [
    "path = \"../replications.txt\"\n",
    "bdf = pd.read_csv(path, names=['l', 'bernoulli'])\n",
    "for k in ['l', 'bernoulli']:\n",
    "    print(scipy.stats.describe(bdf[k]))\n",
    "print(len(bdf))\n",
    "bdf.head()"
   ]
  },
  {
   "cell_type": "code",
   "execution_count": null,
   "metadata": {},
   "outputs": [],
   "source": [
    "logscale = True\n",
    "\n",
    "def safe_log(x):\n",
    "    return log(x) if x != 0 else np.nan\n",
    "\n",
    "if logscale:\n",
    "    bdf['bernoulli_log'] = map(safe_log, bdf['bernoulli'])\n",
    "    gldf['glassermanli_log'] = map(safe_log, gldf['glassermanli'])\n",
    "scipy.stats.describe(gldf['glassermanli'])"
   ]
  },
  {
   "cell_type": "code",
   "execution_count": null,
   "metadata": {},
   "outputs": [],
   "source": [
    "plt.rcParams[\"figure.figsize\"] = (10,10)\n",
    "plt.plot(bdf['l'], bdf['bernoulli_log'], 'o', label='bernoulli')"
   ]
  },
  {
   "cell_type": "code",
   "execution_count": null,
   "metadata": {},
   "outputs": [],
   "source": []
  }
 ],
 "metadata": {
  "kernelspec": {
   "display_name": "Python 2",
   "language": "python",
   "name": "python2"
  },
  "language_info": {
   "codemirror_mode": {
    "name": "ipython",
    "version": 2
   },
   "file_extension": ".py",
   "mimetype": "text/x-python",
   "name": "python",
   "nbconvert_exporter": "python",
   "pygments_lexer": "ipython2",
   "version": "2.7.14"
  }
 },
 "nbformat": 4,
 "nbformat_minor": 2
}
