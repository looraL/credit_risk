{
 "cells": [
  {
   "cell_type": "code",
   "execution_count": null,
   "metadata": {
    "collapsed": true
   },
   "outputs": [],
   "source": [
    "using Pkg; Pkg.activate(\"..\")"
   ]
  },
  {
   "cell_type": "code",
   "execution_count": null,
   "metadata": {
    "collapsed": true
   },
   "outputs": [],
   "source": [
    "using CreditRisk\n",
    "using Distributions\n",
    "using PyPlot\n",
    "import Random"
   ]
  },
  {
   "cell_type": "markdown",
   "metadata": {},
   "source": [
    "### Plotting inner level objective function"
   ]
  },
  {
   "cell_type": "code",
   "execution_count": null,
   "metadata": {
    "collapsed": true
   },
   "outputs": [],
   "source": [
    "n = 2500\n",
    "c = 4\n",
    "s = 5\n",
    "l = 0.2\n",
    "param = Parameter(n,c,s,l)\n",
    "let (N, C, S, l, cmm, ead, lgc, cn, β, H, denom, weights) = unpack(param)\n",
    "\n",
    "    Ψ = init_Ψ()\n",
    "\n",
    "    Zdist = MvNormal(S, 1)\n",
    "    Z = zeros(S)\n",
    "    pnc = zeros(N, C)\n",
    "    phi0 = zeros(N, C+1)\n",
    "    phi  = @view phi0[:,2:end]\n",
    "    twist = zeros(N, C)\n",
    "    mgf = zeros(N)\n",
    "    qnc = zeros(N, C)\n",
    "\n",
    "\n",
    "    Random.rand!(Zdist, Z)\n",
    "    @. phi = normcdf((H - $(β*Z)) / denom)\n",
    "    diff!(pnc, phi0; dims=2)\n",
    "\n",
    "    let objective(θ) = begin\n",
    "        θ = θ[1]\n",
    "        Ψ(θ, pnc, weights) - θ*l\n",
    "    end\n",
    "\n",
    "        xs = -1000:1000\n",
    "        ys = [objective([x]) for x in xs]\n",
    "        display(plot(xs, ys))\n",
    "    end\n",
    "end"
   ]
  },
  {
   "cell_type": "markdown",
   "metadata": {},
   "source": [
    "### Plotting outer level objective function"
   ]
  },
  {
   "cell_type": "code",
   "execution_count": null,
   "metadata": {
    "collapsed": true
   },
   "outputs": [],
   "source": [
    "\n",
    "s = 2         \n",
    "range = 5     # [-range, range]\n",
    "step = 0.1\n",
    "tails = [0.2]\n",
    "\n",
    "for tail in tails\n",
    "    param = Parameter(n,c,s,tail)\n",
    "    let (N, C, S, loss, cmm, ead, lgc, cn, β, H, denom, weights) = unpack(param)\n",
    "\n",
    "    phi0 = zeros(N, C+1)\n",
    "    phi  = @view phi0[:,2:end]\n",
    "    pnc = zeros(N, C)\n",
    "\n",
    "    Ψ = init_Ψ()\n",
    "    innerlevel = InnerLevelTwisting(N, C)\n",
    "\n",
    "    let objective(z) = begin\n",
    "        @. phi = normcdf((H - $(β*z)) / denom)\n",
    "        diff!(pnc, phi0; dims=2)\n",
    "        twist!(innerlevel, pnc, weights, loss)\n",
    "        θ = get_result(innerlevel)\n",
    "        θ*l - Ψ(θ, pnc, weights) + 0.5z'z\n",
    "    end\n",
    "\n",
    "        xs = -range:step:range\n",
    "        ys = -range:step:range\n",
    "        zs = [objective([x, y]) for x in xs, y in ys]\n",
    "\n",
    "        display(surf(xs, ys, zs))\n",
    "        savefig(\"surf_$loss.pdf\", format=\"pdf\")\n",
    "        end\n",
    "    end\n",
    "end"
   ]
  }
 ],
 "metadata": {
  "kernelspec": {
   "display_name": "Julia 0.7.0",
   "language": "julia",
   "name": "julia-0.7"
  },
  "language_info": {
   "file_extension": ".jl",
   "mimetype": "application/julia",
   "name": "julia",
   "version": "0.7.0"
  }
 },
 "nbformat": 4,
 "nbformat_minor": 2
}
