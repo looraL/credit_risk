{
 "cells": [
  {
   "cell_type": "code",
   "execution_count": null,
   "metadata": {
    "collapsed": false
   },
   "outputs": [],
   "source": [
    "using Pkg; Pkg.activate(\"..\")"
   ]
  },
  {
   "cell_type": "code",
   "execution_count": null,
   "metadata": {
    "collapsed": false
   },
   "outputs": [],
   "source": [
    "import Distributions: Normal, MvNormal, Exponential, logpdf, pdf\n",
    "import Plots\n",
    "import PyPlot\n",
    "import Statistics: mean, std"
   ]
  },
  {
   "cell_type": "code",
   "execution_count": null,
   "metadata": {
    "collapsed": false
   },
   "outputs": [],
   "source": [
    "\n",
    "\"\"\"\n",
    "Slice sampling\n",
    "\n",
    "    References\n",
    "    Iain Murray's matlab impl for multivariate slice sampling:\n",
    "        https://homepages.inf.ed.ac.uk/imurray2/teaching/09mlss/slice_sample.m\n",
    "    David MacKay's book:\n",
    "        http://www.inference.org.uk/itprnn/book.pdf\n",
    "    Radford Neal's R impl for univariate slice sampling:\n",
    "        https://www.cs.toronto.edu/~radford/ftp/slice-R-prog\n",
    "    Alternative impl that is not well supported, thorough:\n",
    "        https://github.com/brian-j-smith/Mamba.jl/blob/release-0.11/src/samplers/slice.jl\n",
    "\n",
    "x0: Initial point\n",
    "f: The density function to sample from\n",
    "N: The number of simulate samples\n",
    "\n",
    "step_limit (m): Limit on steps (default Inf)\n",
    "width (w): The size of step for creating interval [L, R] (defaults to 1)\n",
    "burn: The number of samples to discard before saving (defaults to 0)\n",
    "thin: Discards `thin-1` samples and return the next to avoid correlation (defaults to 1)\n",
    "logpdf: `true` if g is the log of probability density trying to sample from (defaults to `false`)\n",
    "\n",
    "\"\"\"\n",
    "function slicesample(\n",
    "    x0::Array{Float64, 1},\n",
    "    f,\n",
    "    N::Int;\n",
    "    step_limit::Int = typemax(Int),\n",
    "    width::Union{Array{Float64, 1}, Float64} = 1.,\n",
    "    burn::Int = 0,\n",
    "    thin::Int = 1,\n",
    "    logpdf::Bool = false)\n",
    "\n",
    "    D = size(x0, 1)\n",
    "    if isa(width, Float64)\n",
    "        width = fill(width, D)\n",
    "    end\n",
    "\n",
    "    if logpdf == false\n",
    "        g(x) = log(f(x))\n",
    "    else\n",
    "        g = f\n",
    "    end\n",
    "\n",
    "\n",
    "    L = zeros(D)\n",
    "    R = zeros(D)\n",
    "    x = zeros(D)\n",
    "    x′= zeros(D)\n",
    "    samples = zeros(D, N)\n",
    "\n",
    "    x[:] = x0\n",
    "\n",
    "    # Log density at initial point\n",
    "    gx = g(x)\n",
    "\n",
    "    for i in 1:(N*thin+burn)\n",
    "\n",
    "        # Determine the slice level, in log terms.\n",
    "        logy = log(rand()) + gx\n",
    "\n",
    "        # Sample from each dimension separately\n",
    "        for d in 1:D\n",
    "            x′[:] = x\n",
    "            L[:] = x\n",
    "            R[:] = x\n",
    "\n",
    "            # Find interval x ∈ [L, R] to sample from\n",
    "            u = width[d] * rand()\n",
    "            L[d] = x[d] - u\n",
    "            R[d] = x[d] + (width[d] - u)\n",
    "\n",
    "            # Step out\n",
    "            if step_limit == Inf\n",
    "                while (g(L) > logy)\n",
    "                    L[d] -= width[d]\n",
    "                end\n",
    "\n",
    "                while (g(R) > logy)\n",
    "                    R[d] += width[d]\n",
    "                end\n",
    "            elseif step_limit > 1\n",
    "                J = floor(step_limit * rand())\n",
    "                K = (step_limit - 1) - J\n",
    "\n",
    "                while (J > 0) && (g(L) > logy)\n",
    "                    L[d] -= width[d]\n",
    "                    J -= 1\n",
    "                end\n",
    "\n",
    "                while (K > 0) && (g(R) > logy)\n",
    "                    R[d] += width[d]\n",
    "                    K -= 1\n",
    "                end\n",
    "            end\n",
    "\n",
    "            # Sample from [L, R], shrinking it on each rejection\n",
    "            #     until we have found good sample x' in the slice\n",
    "            while true\n",
    "                x′[d] = L[d] + rand() * (R[d] - L[d])\n",
    "                gx = g(x′)\n",
    "\n",
    "                gx >= logy && break\n",
    "\n",
    "                if x′[d] > x[d]\n",
    "                    R[d] = x′[d]\n",
    "                else\n",
    "                    L[d] = x′[d]\n",
    "                end\n",
    "            end\n",
    "\n",
    "            x[d] = x′[d]\n",
    "        end\n",
    "\n",
    "        if i > burn && ((i-burn) % thin == 0)\n",
    "            samples[:, div(i-burn, thin)] = x[:]\n",
    "        end\n",
    "    end\n",
    "\n",
    "    samples\n",
    "end\n"
   ]
  },
  {
   "cell_type": "code",
   "execution_count": null,
   "metadata": {
    "collapsed": false
   },
   "outputs": [],
   "source": [
    "x0 = [0.]\n",
    "g(x) = pdf(Normal(), x[1])\n",
    "N = 5000\n",
    "\n",
    "samples = slicesample(x0, g, N; step_limit=10, width=0.5, burn=20, thin=1)\n",
    "samples"
   ]
  },
  {
   "cell_type": "code",
   "execution_count": null,
   "metadata": {
    "collapsed": false
   },
   "outputs": [],
   "source": [
    "print(\"mean: $(mean(samples))  std: $(std(samples))\")"
   ]
  },
  {
   "cell_type": "code",
   "execution_count": null,
   "metadata": {
    "collapsed": false
   },
   "outputs": [],
   "source": [
    "PyPlot.plt[:hist](vec(samples), bins=20, density=true)\n",
    "\n",
    "xs = -3:0.01:3\n",
    "ys = [pdf(Normal(), x) for x in xs]\n",
    "\n",
    "PyPlot.plt[:plot](xs, ys, color=\"red\", linestyle=\"--\")"
   ]
  },
  {
   "cell_type": "code",
   "execution_count": null,
   "metadata": {
    "collapsed": false
   },
   "outputs": [],
   "source": [
    "x0 = zeros(2)\n",
    "g(x) = pdf(MvNormal(2, 1), x)\n",
    "n = 5000\n",
    "\n",
    "samples = slicesample(x0, g, n; step_limit=10, width=1., burn=20, thin=1)\n",
    "samples"
   ]
  },
  {
   "cell_type": "code",
   "execution_count": null,
   "metadata": {
    "collapsed": false
   },
   "outputs": [],
   "source": [
    "print(\"mean: $(mean(samples))  std: $(std(samples))\")"
   ]
  },
  {
   "cell_type": "code",
   "execution_count": null,
   "metadata": {
    "collapsed": false
   },
   "outputs": [],
   "source": [
    "PyPlot.plt[:hist2d](samples[1,:], samples[2,:], bins=20)\n",
    "\"\""
   ]
  },
  {
   "cell_type": "code",
   "execution_count": null,
   "metadata": {
    "collapsed": false,
    "scrolled": true
   },
   "outputs": [],
   "source": [
    "using CreditRisk"
   ]
  },
  {
   "cell_type": "code",
   "execution_count": null,
   "metadata": {
    "collapsed": false
   },
   "outputs": [],
   "source": [
    "import LinearAlgebra: mul!\n",
    "\n",
    "\" Computes μ for the approximating standard normal of loss probability\"\n",
    "function approx_μ(pnc, weights, A)\n",
    "    @. A = pnc * weights\n",
    "    sum(A)\n",
    "end\n",
    "\n",
    "\n",
    "\" Computes σ for the approximating standard normal of loss probability\"\n",
    "function approx_σ(pnc, lgc, ead, A, B, C)\n",
    "    n, c = size(lgc)\n",
    "    i = 1\n",
    "\n",
    "    lgcs = Vector{SubArray}(undef, c)\n",
    "    pncs = Vector{SubArray}(undef, c)\n",
    "    for idx = 1:c\n",
    "        lgcs[idx] = @view lgc[:,idx]\n",
    "        pncs[idx] = @view pnc[:,idx]\n",
    "    end\n",
    "\n",
    "    for a = 1:c\n",
    "        for b = 1:(a-1)\n",
    "            @. A[:,i] = (lgcs[a] - lgcs[b])^2 * pncs[a] * pncs[b]\n",
    "            i += 1\n",
    "        end\n",
    "    end\n",
    "\n",
    "    sum!(B, A)\n",
    "    @. C = ead^2 * B\n",
    "    sqrt(sum(C) / sum(ead)^2)\n",
    "end\n"
   ]
  },
  {
   "cell_type": "code",
   "execution_count": null,
   "metadata": {
    "collapsed": false
   },
   "outputs": [],
   "source": [
    "n = 2500\n",
    "c = 4\n",
    "s = 1\n",
    "l = 0.2\n",
    "param = Parameter(n,c,s,l)\n",
    "(N, C, S, l, cmm, ead, lgc, cn, β, H, denom, weights) = unpack(param)"
   ]
  },
  {
   "cell_type": "code",
   "execution_count": null,
   "metadata": {
    "collapsed": false
   },
   "outputs": [],
   "source": [
    "Z = zeros(S)\n",
    "βZ = zeros(N)\n",
    "phi0 = zeros(N, C+1)\n",
    "phi  = @view phi0[:,2:end]\n",
    "pnc = zeros(N, C)\n",
    "approx_μ_A = similar(weights)\n",
    "approx_σ_A = zeros(N, convert(Int, (C-1)*C/2))\n",
    "approx_σ_B = zeros(N)\n",
    "approx_σ_C = zeros(N)\n",
    "Zdist = MvNormal(S, 1)\n",
    "\n",
    "function π(Z)\n",
    "    mul!(βZ, β, Z)\n",
    "    @. phi = normcdf((H - βZ) / denom)\n",
    "    diff!(pnc, phi0; dims=2)\n",
    "    μ = approx_μ(pnc, weights, approx_μ_A)\n",
    "    σ = approx_σ(pnc, lgc, ead, approx_σ_A, approx_σ_B, approx_σ_C)\n",
    "    p = (1 - normcdf((l-μ)/σ)) * pdf(Zdist, Z)\n",
    "    return p\n",
    "end\n",
    "\n",
    "\n",
    "@time samp = slicesample(zeros(S), π, 1000; step_limit=30, width=2., burn=100, thin=2)\n",
    "PyPlot.plt[:hist](vec(samp), bins=20, density=true)\n",
    "\n",
    "xs = -5:0.1:5\n",
    "ys = [π([x]) for x in xs]\n",
    "\n",
    "PyPlot.plt[:plot](xs, ys, color=\"red\", linestyle=\"--\")\n",
    "\n",
    "\"\""
   ]
  },
  {
   "cell_type": "code",
   "execution_count": null,
   "metadata": {
    "collapsed": false
   },
   "outputs": [],
   "source": [
    "n = 2500\n",
    "c = 4\n",
    "s = 2\n",
    "l = 0.2\n",
    "param = Parameter(n,c,s,l)\n",
    "(N, C, S, l, cmm, ead, lgc, cn, β, H, denom, weights) = unpack(param)"
   ]
  },
  {
   "cell_type": "code",
   "execution_count": null,
   "metadata": {
    "collapsed": false
   },
   "outputs": [],
   "source": [
    "Z = zeros(S)\n",
    "βZ = zeros(N)\n",
    "phi0 = zeros(N, C+1)\n",
    "phi  = @view phi0[:,2:end]\n",
    "pnc = zeros(N, C)\n",
    "approx_μ_A = similar(weights)\n",
    "approx_σ_A = zeros(N, convert(Int, (C-1)*C/2))\n",
    "approx_σ_B = zeros(N)\n",
    "approx_σ_C = zeros(N)\n",
    "Zdist = MvNormal(S, 1)\n",
    "\n",
    "function π(Z)\n",
    "    mul!(βZ, β, Z)\n",
    "    @. phi = normcdf((H - βZ) / denom)\n",
    "    diff!(pnc, phi0; dims=2)\n",
    "    μ = approx_μ(pnc, weights, approx_μ_A)\n",
    "    σ = approx_σ(pnc, lgc, ead, approx_σ_A, approx_σ_B, approx_σ_C)\n",
    "    p = (1 - normcdf((l-μ)/σ)) * pdf(Zdist, Z)\n",
    "    return p\n",
    "end\n",
    "\n",
    "n_samples = 600\n",
    "burn_ratio = 0.1\n",
    "initial_point = zeros(S)\n",
    "\n",
    "samples = slicesample(initial_point, π, n_samples;\n",
    "    step_limit=20,\n",
    "    width=0.5,\n",
    "    burn=Int(burn_ratio * n_samples),\n",
    "    thin=3)\n",
    "\n",
    "PyPlot.plt[:hist2d](samp[1,:], samp[2,:], bins=20)\n",
    "\"\""
   ]
  },
  {
   "cell_type": "code",
   "execution_count": null,
   "metadata": {
    "collapsed": true
   },
   "outputs": [],
   "source": []
  }
 ],
 "metadata": {
  "kernelspec": {
   "display_name": "Julia 0.7.0",
   "language": "julia",
   "name": "julia-0.7"
  },
  "language_info": {
   "file_extension": ".jl",
   "mimetype": "application/julia",
   "name": "julia",
   "version": "0.7.0"
  }
 },
 "nbformat": 4,
 "nbformat_minor": 0
}
